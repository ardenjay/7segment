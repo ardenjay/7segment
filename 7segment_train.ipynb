{
 "cells": [
  {
   "cell_type": "code",
   "execution_count": null,
   "metadata": {},
   "outputs": [],
   "source": [
    "import numpy as np\n",
    "import cv2\n",
    "import os\n",
    "import pandas as pd\n",
    "from matplotlib import pyplot as plt\n",
    "from tensorflow.keras.utils import to_categorical\n",
    "from tensorflow.keras.models import Sequential\n",
    "from tensorflow.keras.layers import Dense\n",
    "from tensorflow.keras.layers import Flatten\n",
    "from tensorflow.keras.layers import Conv2D\n",
    "from tensorflow.keras.layers import MaxPooling2D\n",
    "from tensorflow.keras.layers import Dropout"
   ]
  },
  {
   "cell_type": "markdown",
   "metadata": {},
   "source": [
    "## Prepare Input Data\n",
    "- Train:\n",
    "    - format: (samples, 234, 130, 1)\n",
    "- Label:\n",
    "    - format: (samples, one-hot encode)"
   ]
  },
  {
   "cell_type": "code",
   "execution_count": null,
   "metadata": {},
   "outputs": [],
   "source": [
    "from PIL import Image, ImageOps\n",
    "\n",
    "# Image.open return RGB\n",
    "def load_file(path):\n",
    "    #print(path)\n",
    "    im = Image.open(path)\n",
    "    if im is None:\n",
    "        return None\n",
    "    \n",
    "    delta_w = 130 - im.size[0]\n",
    "    delta_h = 234 - im.size[1]\n",
    "    padding = (delta_w//2, delta_h//2, delta_w-(delta_w//2), delta_h-(delta_h//2))\n",
    "    new_im = ImageOps.expand(im, padding)\n",
    "    #new_im.show()\n",
    "\n",
    "    np_im = np.asarray(new_im)\n",
    "    return np_im"
   ]
  },
  {
   "cell_type": "code",
   "execution_count": null,
   "metadata": {},
   "outputs": [],
   "source": [
    "def load_data(DIR):\n",
    "    X_train = None\n",
    "    Y_train = None\n",
    "    \n",
    "    for root, subdirs, files in os.walk(DIR):\n",
    "        print(\"dir: \", root)\n",
    "        file_num = 0\n",
    "        invalid_file = 0\n",
    "        \n",
    "        for filename in files:\n",
    "            file_num += 1\n",
    "            #print(filename)\n",
    "            file_path = os.path.join(root, filename)\n",
    "            #img = cv2.imread(file_path, cv2.IMREAD_UNCHANGED)\n",
    "\n",
    "            #np_img = np.array(img)\n",
    "            np_img = load_file(file_path)\n",
    "            #print(np_img.shape)\n",
    "\n",
    "            # X_train\n",
    "            if X_train is None:\n",
    "                # np_img: (234, 130, 3)\n",
    "                # X_train: (1, 234, 130, 3)\n",
    "                X_train = np_img[np.newaxis,:]\n",
    "            else:\n",
    "                if (np_img.shape != (234, 130, 3)):\n",
    "                    #print(file_path + \" is invalid\")\n",
    "                    invalid_file += 1\n",
    "                    continue\n",
    "                \n",
    "                # after append:  (sample, 234, 130, 3)\n",
    "                X_train = np.append(X_train, np_img[np.newaxis,:], axis = 0)\n",
    "\n",
    "            # Y_train\n",
    "            y = (int)(root.split(\"/\")[1])\n",
    "            if Y_train is None:\n",
    "                Y_train = np.array(y)\n",
    "            else:\n",
    "                Y_train = np.append(Y_train, y)\n",
    "\n",
    "        #print(\"In dir: \", root, \"file num = \", file_num)\n",
    "        #print(\"In dir: \", root, \"invalid file = \", invalid_file)\n",
    "        #print(\"In dir: \", root, \"valid file = \", file_num - invalid_file)\n",
    "    return (X_train, Y_train)"
   ]
  },
  {
   "cell_type": "markdown",
   "metadata": {},
   "source": [
    "## Loads Train and Test Image "
   ]
  },
  {
   "cell_type": "code",
   "execution_count": null,
   "metadata": {},
   "outputs": [],
   "source": [
    "# Train\n",
    "(X_train, Y_train) = load_data('dataset/')\n",
    "# use one channel\n",
    "X_train = X_train[:, :, :, 1]\n",
    "X_train = X_train.reshape(X_train.shape[0], X_train.shape[1], X_train.shape[2], 1)\n",
    "Y_train = to_categorical(Y_train)\n",
    "#print(Y_train.shape)\n",
    "\n",
    "# Test\n",
    "(X_test, Y_test) = load_data('dataset_test/')\n",
    "Y_test_bk = Y_test.copy() # Y_test_bk is used in the confusion matrix\n",
    "\n",
    "# use one channel\n",
    "X_test = X_test[:, :, :, 1]\n",
    "X_test = X_test.reshape(X_test.shape[0], X_test.shape[1], X_test.shape[2], 1)\n",
    "Y_test = to_categorical(Y_test)"
   ]
  },
  {
   "cell_type": "markdown",
   "metadata": {},
   "source": [
    "## Model"
   ]
  },
  {
   "cell_type": "code",
   "execution_count": null,
   "metadata": {},
   "outputs": [],
   "source": [
    "model = Sequential()\n",
    "\n",
    "# 16 (5x5 Conv2D)\n",
    "model.add(Conv2D(16, kernel_size=(5, 5), padding=\"same\",\n",
    "                 input_shape=(234, 130, 1), activation=\"relu\"))\n",
    "model.add(MaxPooling2D(pool_size=(2, 2)))\n",
    "model.add(Dropout(0.1))\n",
    "\n",
    "model.add(Conv2D(32, kernel_size=(5, 5), padding=\"same\",\n",
    "                 activation=\"relu\"))\n",
    "model.add(MaxPooling2D(pool_size=(2, 2)))\n",
    "\n",
    "model.add(Dropout(0.5))\n",
    "model.add(Flatten())\n",
    "model.add(Dense(128, activation=\"relu\"))\n",
    "model.add(Dropout(0.5))\n",
    "\n",
    "# The final output number should match the label classes\n",
    "num = Y_train.shape[1]\n",
    "model.add(Dense(num, activation=\"softmax\"))\n",
    "\n",
    "model.summary()"
   ]
  },
  {
   "cell_type": "markdown",
   "metadata": {},
   "source": [
    "## Compile Model"
   ]
  },
  {
   "cell_type": "code",
   "execution_count": null,
   "metadata": {},
   "outputs": [],
   "source": [
    "model.compile(loss=\"categorical_crossentropy\", optimizer=\"adam\",\n",
    "              metrics=[\"accuracy\"])"
   ]
  },
  {
   "cell_type": "markdown",
   "metadata": {},
   "source": [
    "## Train"
   ]
  },
  {
   "cell_type": "code",
   "execution_count": null,
   "metadata": {},
   "outputs": [],
   "source": [
    "print(X_train.shape)\n",
    "print(Y_train.shape)\n",
    "history = model.fit(X_train, Y_train, epochs=20, batch_size=128, verbose=2)"
   ]
  },
  {
   "cell_type": "markdown",
   "metadata": {},
   "source": [
    "## Save Model"
   ]
  },
  {
   "cell_type": "code",
   "execution_count": null,
   "metadata": {},
   "outputs": [],
   "source": [
    "print(\"Saving Model: mnist.h5 ...\")\n",
    "model.save(\"mnist.h5\")"
   ]
  },
  {
   "cell_type": "markdown",
   "metadata": {},
   "source": [
    "## Evaluation"
   ]
  },
  {
   "cell_type": "code",
   "execution_count": null,
   "metadata": {
    "scrolled": true
   },
   "outputs": [],
   "source": [
    "print(\"Testing ...\")\n",
    "loss, accuracy = model.evaluate(X_train, Y_train)\n",
    "print(\"Accuracy on Training Set = {:.2f}\".format(accuracy))\n",
    "loss, accuracy = model.evaluate(X_test, Y_test)\n",
    "print(\"Accuracy on Test Set = {:.2f}\".format(accuracy))"
   ]
  },
  {
   "cell_type": "markdown",
   "metadata": {},
   "source": [
    "## Show on graph"
   ]
  },
  {
   "cell_type": "code",
   "execution_count": null,
   "metadata": {},
   "outputs": [],
   "source": [
    "import matplotlib.pyplot as plt\n",
    "\n",
    "loss = history.history[\"loss\"]\n",
    "epochs = range(1, len(loss)+1)\n",
    "plt.plot(epochs, loss, \"bo-\", label=\"Training Loss\")\n",
    "plt.title(\"Training Loss\")\n",
    "plt.xlabel(\"Epochs\")\n",
    "plt.ylabel(\"Loss\")\n",
    "plt.legend()\n",
    "plt.show()"
   ]
  },
  {
   "cell_type": "code",
   "execution_count": null,
   "metadata": {},
   "outputs": [],
   "source": [
    "acc = history.history[\"acc\"]\n",
    "epochs = range(1, len(acc)+1)\n",
    "plt.plot(epochs, acc, \"bo-\", label=\"Training Acc\")\n",
    "plt.title(\"TrainingAccuracy\")\n",
    "plt.xlabel(\"Epochs\")\n",
    "plt.ylabel(\"Accuracy\")\n",
    "plt.legend()\n",
    "plt.show()"
   ]
  },
  {
   "cell_type": "markdown",
   "metadata": {},
   "source": [
    "## Predict"
   ]
  },
  {
   "cell_type": "code",
   "execution_count": null,
   "metadata": {},
   "outputs": [],
   "source": [
    "Y_pred = model.predict_classes(X_test)"
   ]
  },
  {
   "cell_type": "markdown",
   "metadata": {},
   "source": [
    "## Confusion Matrix"
   ]
  },
  {
   "cell_type": "code",
   "execution_count": null,
   "metadata": {},
   "outputs": [],
   "source": [
    "tb = pd.crosstab(Y_test_bk.astype(int), Y_pred.astype(int),\n",
    "                 rownames=[\"label\"], colnames=[\"predict\"])\n",
    "print(tb)\n",
    "#tb.to_html(\"Confusion Matrix.html\")"
   ]
  }
 ],
 "metadata": {
  "kernelspec": {
   "display_name": "Python 3",
   "language": "python",
   "name": "python3"
  },
  "language_info": {
   "codemirror_mode": {
    "name": "ipython",
    "version": 3
   },
   "file_extension": ".py",
   "mimetype": "text/x-python",
   "name": "python",
   "nbconvert_exporter": "python",
   "pygments_lexer": "ipython3",
   "version": "3.6.10"
  }
 },
 "nbformat": 4,
 "nbformat_minor": 2
}
