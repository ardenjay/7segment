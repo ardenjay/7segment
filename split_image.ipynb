{
 "cells": [
  {
   "cell_type": "code",
   "execution_count": null,
   "metadata": {},
   "outputs": [],
   "source": [
    "import cv2\n",
    "import os\n",
    "from matplotlib import pyplot as plt\n",
    "import numpy as np\n",
    "\n",
    "# OpenCV: BGR; Matplot: RGB\n",
    "def show_image(img):\n",
    "    RGB_im = cv2.cvtColor(img, cv2.COLOR_BGR2RGB)\n",
    "    plt.imshow(RGB_im)\n",
    "    plt.show()"
   ]
  },
  {
   "cell_type": "code",
   "execution_count": null,
   "metadata": {},
   "outputs": [],
   "source": [
    "def extract_img(img):\n",
    "    new_img = img[:, :, 1] # The G part is clearer\n",
    "    #show_image(new_img)\n",
    "    return new_img"
   ]
  },
  {
   "cell_type": "markdown",
   "metadata": {},
   "source": [
    "## Save the Image\n",
    "Called by split_img()"
   ]
  },
  {
   "cell_type": "code",
   "execution_count": null,
   "metadata": {},
   "outputs": [],
   "source": [
    "def save_img(img, filename):\n",
    "    name = filename + \".jpg\"\n",
    "    cv2.imwrite(name, img)\n",
    "    return name"
   ]
  },
  {
   "cell_type": "markdown",
   "metadata": {},
   "source": [
    "## Split the image into 4 digit image\n",
    "### Parameters\n",
    "- img: return from cv2.imread\n",
    "- path: The directory for putting cutted image\n",
    "- filename: The image file name\n",
    "\n",
    "### Return\n",
    "An array contains saved cutted image name"
   ]
  },
  {
   "cell_type": "code",
   "execution_count": null,
   "metadata": {},
   "outputs": [],
   "source": [
    "def split_img(img, dir_path, filename):\n",
    "    saved_file_name = []\n",
    "\n",
    "    if img is None:\n",
    "        return\n",
    "\n",
    "    rows = img.shape[1]\n",
    "\n",
    "    step = rows//4\n",
    "    # if step is too small which means the picture is too small, skip it\n",
    "    if (step < 100):\n",
    "        return\n",
    "    \n",
    "    name = os.path.splitext(filename)\n",
    "    \n",
    "    old_row = 0\n",
    "    for i in range(1, 5):\n",
    "        small_img = img[:, old_row:step*i]\n",
    "        #show_image(small_img)\n",
    "        old_row = step*i\n",
    "        \n",
    "        # save cutted image\n",
    "        img_name = name[0] + \"-\" + str(i)\n",
    "        full_path = os.path.join(dir_path, img_name)\n",
    "        small_img_name = save_img(small_img, full_path)\n",
    "        # store the cutted image file name\n",
    "        saved_file_name.append(small_img_name)\n",
    "\n",
    "    return saved_file_name"
   ]
  },
  {
   "cell_type": "code",
   "execution_count": null,
   "metadata": {},
   "outputs": [],
   "source": [
    "DIR = 'test_images/'\n",
    "\n",
    "for root, subdirs, files in os.walk(DIR):\n",
    "    print(\"root:\", root)\n",
    "    for filename in files:\n",
    "        file_path = os.path.join(root, filename)\n",
    "        if file_path.endswith(\".jpg\"):\n",
    "            print(\"Process \", file_path)\n",
    "            img = cv2.imread(file_path, cv2.IMREAD_COLOR)\n",
    "            #show_image(img)\n",
    "            G_img = extract_img(img)\n",
    "            \n",
    "            # stored into root (test_images)\n",
    "            cut_img_path = split_img(G_img, root, filename)\n",
    "            print(cut_img_path)\n",
    "print(\"Done\")"
   ]
  }
 ],
 "metadata": {
  "kernelspec": {
   "display_name": "Python 3",
   "language": "python",
   "name": "python3"
  },
  "language_info": {
   "codemirror_mode": {
    "name": "ipython",
    "version": 3
   },
   "file_extension": ".py",
   "mimetype": "text/x-python",
   "name": "python",
   "nbconvert_exporter": "python",
   "pygments_lexer": "ipython3",
   "version": "3.6.10"
  }
 },
 "nbformat": 4,
 "nbformat_minor": 2
}
