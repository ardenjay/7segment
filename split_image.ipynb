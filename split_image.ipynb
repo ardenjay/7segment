{
 "cells": [
  {
   "cell_type": "code",
   "execution_count": null,
   "metadata": {},
   "outputs": [],
   "source": [
    "import cv2\n",
    "import os\n",
    "from matplotlib import pyplot as plt\n",
    "import numpy as np\n",
    "\n",
    "#DEBUG = True\n",
    "DEBUG = False\n",
    "\n",
    "#SHOW = True\n",
    "SHOW = False\n",
    "\n",
    "SAVE_IMG = True\n",
    "#SAVE_IMG = False\n",
    "\n",
    "# OpenCV: BGR; Matplot: RGB\n",
    "def show_image(img):\n",
    "    if (SHOW == True):\n",
    "        RGB_im = cv2.cvtColor(img, cv2.COLOR_BGR2RGB)\n",
    "        plt.imshow(RGB_im)\n",
    "        plt.show()"
   ]
  },
  {
   "cell_type": "code",
   "execution_count": null,
   "metadata": {},
   "outputs": [],
   "source": [
    "def extract_img(img):\n",
    "    new_img = img[:, :, 1] # The G part is clearer\n",
    "    #show_image(new_img)\n",
    "    return new_img"
   ]
  },
  {
   "cell_type": "markdown",
   "metadata": {},
   "source": [
    "## Create the Image dir\n",
    "The directory is used to put cutted image"
   ]
  },
  {
   "cell_type": "code",
   "execution_count": null,
   "metadata": {},
   "outputs": [],
   "source": [
    "def create_dir(parent_dir, directory):\n",
    "    path = os.path.join(parent_dir, directory) \n",
    "    \n",
    "    if (os.path.isdir(path) == True):\n",
    "        return None\n",
    "\n",
    "    try:\n",
    "        os.mkdir(path)\n",
    "        return path\n",
    "    except OSError as error: \n",
    "        print(error)\n",
    "        return None"
   ]
  },
  {
   "cell_type": "markdown",
   "metadata": {},
   "source": [
    "## Save the Image\n",
    "Called by split_img()"
   ]
  },
  {
   "cell_type": "code",
   "execution_count": null,
   "metadata": {},
   "outputs": [],
   "source": [
    "def save_img(img, fn):\n",
    "    if (SAVE_IMG == False):\n",
    "        return\n",
    "    print(\"save_img: \", fn)\n",
    "    name = fn + \".jpg\"\n",
    "    cv2.imwrite(name, img)\n",
    "    return name"
   ]
  },
  {
   "cell_type": "markdown",
   "metadata": {},
   "source": [
    "## Split the image into 4 digit image\n",
    "### Parameters\n",
    "- img: return from cv2.imread\n",
    "- path: The directory for putting cutted image\n",
    "- filename: The image file name\n",
    "\n",
    "### Return\n",
    "An array contains saved cutted image name"
   ]
  },
  {
   "cell_type": "code",
   "execution_count": null,
   "metadata": {},
   "outputs": [],
   "source": [
    "def split_img(img, dir_path, filename):\n",
    "    saved_file_name = []\n",
    "\n",
    "    if img is None:\n",
    "        return\n",
    "\n",
    "    rows = img.shape[1]\n",
    "\n",
    "    step = rows//4\n",
    "    # if step is too small which means the picture is too small, skip it\n",
    "    if (step < 100):\n",
    "        return\n",
    "    \n",
    "    name = os.path.splitext(filename)\n",
    "    \n",
    "    old_row = 0\n",
    "    for i in range(1, 5):\n",
    "        small_img = img[:, old_row:step*i]\n",
    "        #show_image(small_img)\n",
    "        old_row = step*i\n",
    "        \n",
    "        # save cutted image\n",
    "        img_name = name[0] + \"-\" + str(i)\n",
    "        full_path = os.path.join(dir_path, img_name)\n",
    "        small_img_name = save_img(small_img, full_path)\n",
    "        # store the cutted image file name\n",
    "        saved_file_name.append(small_img_name)\n",
    "\n",
    "    return saved_file_name"
   ]
  },
  {
   "cell_type": "markdown",
   "metadata": {},
   "source": [
    "## Split the image by contours"
   ]
  },
  {
   "cell_type": "markdown",
   "metadata": {},
   "source": [
    "### Store each contours (cutted image)"
   ]
  },
  {
   "cell_type": "code",
   "execution_count": null,
   "metadata": {},
   "outputs": [],
   "source": [
    "def store_contours(img, arr, path, filename):\n",
    "    fn = None\n",
    "\n",
    "    for idx, (x,y,w,h) in enumerate(arr):\n",
    "        roi = img[y:y+h, x:x+w]\n",
    "        thresh = roi.copy()\n",
    "        print(\"store_contours: show each contours\")\n",
    "        show_image(thresh)\n",
    "\n",
    "        main_fn =  os.path.splitext(filename)\n",
    "        fn = os.path.join(path, '{}-{}'.format(main_fn[0], idx+1))\n",
    "        fn = save_img(thresh, fn)\n",
    "\n",
    "    return fn"
   ]
  },
  {
   "cell_type": "markdown",
   "metadata": {},
   "source": [
    "### Show the contours on original image"
   ]
  },
  {
   "cell_type": "code",
   "execution_count": null,
   "metadata": {},
   "outputs": [],
   "source": [
    "def show_contours(img, contours):\n",
    "    contours_img = img.copy()\n",
    "    cv2.drawContours(contours_img, contours, -1, (255, 0, 0), 3)\n",
    "    show_image(contours_img)"
   ]
  },
  {
   "cell_type": "code",
   "execution_count": null,
   "metadata": {},
   "outputs": [],
   "source": [
    "def split_img_contours(img, dir_path, filename):\n",
    "\n",
    "    if img is None:\n",
    "        return\n",
    "\n",
    "    imgray = cv2.cvtColor(img, cv2.COLOR_BGR2GRAY)\n",
    "    \n",
    "    otsu, thresh = cv2.threshold(imgray, 0, 255, cv2.THRESH_BINARY + cv2.THRESH_OTSU)\n",
    "\n",
    "    # RETR_EXTERNAL: only outer flag\n",
    "    # otherwise, 0 will have two contours\n",
    "    contours, hierarchy = cv2.findContours(thresh, cv2.RETR_EXTERNAL, cv2.CHAIN_APPROX_SIMPLE)\n",
    "    show_contours(img, contours)\n",
    "\n",
    "    cnts = sorted([(c, cv2.boundingRect(c)[0]) for c in contours], key=lambda x:x[1])\n",
    "    if (DEBUG == True):\n",
    "        print(\"Found {} contours\".format(len(cnts)))\n",
    "\n",
    "    # Store the contours\n",
    "    con_arr = []\n",
    "    for (c, _) in cnts:\n",
    "        (x, y, w, h) = cv2.boundingRect(c)\n",
    "        if (DEBUG == True):\n",
    "            print(\"contours: \", (x, y, w, h))\n",
    "        \n",
    "        if (h >= 100 and w >= 30):\n",
    "            con_arr.append((x,y,w,h))\n",
    "    \n",
    "    return store_contours(img, con_arr, dir_path, filename)"
   ]
  },
  {
   "cell_type": "code",
   "execution_count": null,
   "metadata": {},
   "outputs": [],
   "source": [
    "DIR = 'test_images/'\n",
    "\n",
    "for root, subdirs, files in os.walk(DIR):\n",
    "    print(\"root:\", root)\n",
    "    for filename in files:\n",
    "        file_path = os.path.join(root, filename)\n",
    "        if file_path.endswith(\".jpg\"):\n",
    "            print(\"Process: \", file_path)\n",
    "            \n",
    "            # FIXME: create dir moves to store image\n",
    "            # filename = \"dir name\" + \".jpg\"\n",
    "            dir_name = os.path.splitext(filename)\n",
    "            path = create_dir(DIR, dir_name[0])\n",
    "            if path is None:\n",
    "                continue\n",
    "            \n",
    "            img = cv2.imread(file_path, cv2.IMREAD_COLOR)\n",
    "            cut_img_path = split_img_contours(img, path, filename)\n",
    "\n",
    "print(\"Done\")"
   ]
  }
 ],
 "metadata": {
  "kernelspec": {
   "display_name": "Python 3",
   "language": "python",
   "name": "python3"
  },
  "language_info": {
   "codemirror_mode": {
    "name": "ipython",
    "version": 3
   },
   "file_extension": ".py",
   "mimetype": "text/x-python",
   "name": "python",
   "nbconvert_exporter": "python",
   "pygments_lexer": "ipython3",
   "version": "3.6.10"
  }
 },
 "nbformat": 4,
 "nbformat_minor": 2
}
