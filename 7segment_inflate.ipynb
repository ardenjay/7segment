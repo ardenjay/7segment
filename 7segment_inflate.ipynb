{
 "cells": [
  {
   "cell_type": "code",
   "execution_count": null,
   "metadata": {},
   "outputs": [],
   "source": [
    "import numpy as np\n",
    "import os\n",
    "from tensorflow.keras.models import load_model\n",
    "import cv2"
   ]
  },
  {
   "cell_type": "code",
   "execution_count": null,
   "metadata": {},
   "outputs": [],
   "source": [
    "from matplotlib import pyplot as plt\n",
    "# OpenCV: BGR; Matplot: RGB\n",
    "def show_image(img):\n",
    "    RGB_im = cv2.cvtColor(img, cv2.COLOR_BGR2RGB)\n",
    "    plt.imshow(RGB_im)\n",
    "    plt.show()"
   ]
  },
  {
   "cell_type": "markdown",
   "metadata": {},
   "source": [
    "## Inflact\n",
    "img: The image returned from cv2.imread()"
   ]
  },
  {
   "cell_type": "code",
   "execution_count": null,
   "metadata": {},
   "outputs": [],
   "source": [
    "def predict(img):\n",
    "    np_img = np.array(img)\n",
    "    np_img = np_img.reshape(1, np_img.shape[0], np_img.shape[1], 1)\n",
    "\n",
    "    Y = model.predict_classes(np_img)\n",
    "    print(\"predict: \", Y)"
   ]
  },
  {
   "cell_type": "code",
   "execution_count": null,
   "metadata": {},
   "outputs": [],
   "source": [
    "def run_prediction(file_path):\n",
    "    img = cv2.imread(file_path, cv2.IMREAD_UNCHANGED)\n",
    "    print(file_path)\n",
    "    \n",
    "    if img is None:\n",
    "        print(\"Read from \", file_path, \" fails\")\n",
    "        return\n",
    "    \n",
    "    predict(img)"
   ]
  },
  {
   "cell_type": "markdown",
   "metadata": {},
   "source": [
    "## Load Image and Resize"
   ]
  },
  {
   "cell_type": "code",
   "execution_count": null,
   "metadata": {},
   "outputs": [],
   "source": [
    "from PIL import Image, ImageOps\n",
    "\n",
    "def load_file(path):\n",
    "    print(path)\n",
    "    im = Image.open(file_path)\n",
    "    if im is None:\n",
    "        return None\n",
    "    \n",
    "    delta_w = 130 - im.size[0]\n",
    "    delta_h = 234 - im.size[1]\n",
    "    padding = (delta_w//2, delta_h//2, delta_w-(delta_w//2), delta_h-(delta_h//2))\n",
    "    new_im = ImageOps.expand(im, padding)\n",
    "    #new_im.show()\n",
    "\n",
    "    np_im = np.asarray(new_im)\n",
    "    return np_im"
   ]
  },
  {
   "cell_type": "code",
   "execution_count": null,
   "metadata": {},
   "outputs": [],
   "source": [
    "DIR = \"test_images/\"\n",
    "model = load_model(\"mnist.h5\")\n",
    "\n",
    "for root, subdirs, files in os.walk(DIR):\n",
    "    # ignore the images in DIR\n",
    "    if (root == DIR):\n",
    "        continue\n",
    "    \n",
    "    for filename in files:\n",
    "        if filename.endswith(\".jpg\"):\n",
    "            file_path = os.path.join(root, filename)\n",
    "            np_im = load_file(file_path)\n",
    "            if np_im is None:\n",
    "                continue\n",
    "\n",
    "            #print(np_im.shape)\n",
    "            G_img = np_im[:, :, 1]\n",
    "            show_image(G_img)\n",
    "            predict(G_img)"
   ]
  }
 ],
 "metadata": {
  "kernelspec": {
   "display_name": "Python 3",
   "language": "python",
   "name": "python3"
  },
  "language_info": {
   "codemirror_mode": {
    "name": "ipython",
    "version": 3
   },
   "file_extension": ".py",
   "mimetype": "text/x-python",
   "name": "python",
   "nbconvert_exporter": "python",
   "pygments_lexer": "ipython3",
   "version": "3.6.10"
  }
 },
 "nbformat": 4,
 "nbformat_minor": 2
}
