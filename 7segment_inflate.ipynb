{
 "cells": [
  {
   "cell_type": "code",
   "execution_count": 1,
   "metadata": {},
   "outputs": [],
   "source": [
    "import numpy as np\n",
    "import os\n",
    "from tensorflow.keras.models import load_model\n",
    "import cv2"
   ]
  },
  {
   "cell_type": "markdown",
   "metadata": {},
   "source": [
    "## Create the Image dir\n",
    "The directory is used to put cutted image"
   ]
  },
  {
   "cell_type": "code",
   "execution_count": 2,
   "metadata": {},
   "outputs": [],
   "source": [
    "def create_dir(parent_dir, directory):\n",
    "    path = os.path.join(parent_dir, directory) \n",
    "    \n",
    "    if (os.path.isdir(path) == True):\n",
    "        return None\n",
    "\n",
    "    try:\n",
    "        os.mkdir(path)\n",
    "        return path\n",
    "    except OSError as error: \n",
    "        print(error)\n",
    "        return None"
   ]
  },
  {
   "cell_type": "code",
   "execution_count": 3,
   "metadata": {},
   "outputs": [],
   "source": [
    "def extract_img(img):\n",
    "    new_img = img[:, :, 1] # The G part is clearer\n",
    "    return new_img"
   ]
  },
  {
   "cell_type": "code",
   "execution_count": 4,
   "metadata": {},
   "outputs": [],
   "source": [
    "def save_img(img, filename):\n",
    "    name = filename + \".jpg\"\n",
    "    cv2.imwrite(name, img)\n",
    "    return name"
   ]
  },
  {
   "cell_type": "markdown",
   "metadata": {},
   "source": [
    "## Inflact¶\n",
    "img: The image returned from cv2.imread()"
   ]
  },
  {
   "cell_type": "code",
   "execution_count": 5,
   "metadata": {},
   "outputs": [],
   "source": [
    "def predict(img):\n",
    "    np_img = np.array(img)\n",
    "    np_img = np_img.reshape(1, np_img.shape[0], np_img.shape[1], 1)\n",
    "    print(np_img.shape)\n",
    "    Y = model.predict_classes(np_img)\n",
    "    print(Y)"
   ]
  },
  {
   "cell_type": "code",
   "execution_count": 6,
   "metadata": {},
   "outputs": [],
   "source": [
    "def run_prediction(file_path):\n",
    "    img = cv2.imread(file_path, cv2.IMREAD_UNCHANGED)\n",
    "    print(file_path)\n",
    "    \n",
    "    if img is None:\n",
    "        print(\"Read from \", file_path, \" fails\")\n",
    "        return\n",
    "    \n",
    "    predict(img)"
   ]
  },
  {
   "cell_type": "code",
   "execution_count": 7,
   "metadata": {},
   "outputs": [],
   "source": [
    "def split_img(np_img, path):\n",
    "    if img is None:\n",
    "        return\n",
    "\n",
    "    rows = np_img.shape[1]\n",
    "\n",
    "    step = rows//4\n",
    "    # if step is too small which means the picture is too small, skip it\n",
    "    if (step < 100):\n",
    "        return\n",
    "    \n",
    "    old_row = 0\n",
    "    for i in range(1, 5):\n",
    "        small_img = np_img[:, old_row:step*i]\n",
    "        old_row = step*i\n",
    "        \n",
    "        # save cutted image\n",
    "        name = save_img(small_img, path + \"-\" + str(i))\n",
    "        \n",
    "        # run the cutted image prediction\n",
    "        run_prediction(name)"
   ]
  },
  {
   "cell_type": "code",
   "execution_count": 9,
   "metadata": {},
   "outputs": [
    {
     "name": "stdout",
     "output_type": "stream",
     "text": [
      "L3555.jpg\n",
      "test_images/L3555/L3555-1.jpg\n",
      "(1, 234, 130, 1)\n",
      "[1]\n",
      "test_images/L3555/L3555-2.jpg\n",
      "(1, 234, 130, 1)\n",
      "[5]\n",
      "test_images/L3555/L3555-3.jpg\n",
      "(1, 234, 130, 1)\n",
      "[5]\n",
      "test_images/L3555/L3555-4.jpg\n",
      "(1, 234, 130, 1)\n",
      "[5]\n"
     ]
    }
   ],
   "source": [
    "TEST_DIR = \"test_images/\"\n",
    "model = load_model(\"mnist.h5\")\n",
    "\n",
    "for filename in os.listdir(TEST_DIR):\n",
    "    if filename.endswith(\".jpg\"):\n",
    "        print(filename)\n",
    "\n",
    "        # filename = \"dir name\" + \".jpg\"\n",
    "        dir_name = os.path.splitext(filename)\n",
    "        path = create_dir(TEST_DIR, dir_name[0])\n",
    "        if path is None:\n",
    "            continue\n",
    "\n",
    "        img = cv2.imread(TEST_DIR + filename, cv2.IMREAD_COLOR)\n",
    "        if img is None:\n",
    "            print(\"Reading \", TEST_DIR + filename, \" fails\")\n",
    "        \n",
    "        G_img = extract_img(img)\n",
    "        new_path = path + \"/\" + dir_name[0]\n",
    "        split_img(G_img, new_path)"
   ]
  }
 ],
 "metadata": {
  "kernelspec": {
   "display_name": "Python 3",
   "language": "python",
   "name": "python3"
  },
  "language_info": {
   "codemirror_mode": {
    "name": "ipython",
    "version": 3
   },
   "file_extension": ".py",
   "mimetype": "text/x-python",
   "name": "python",
   "nbconvert_exporter": "python",
   "pygments_lexer": "ipython3",
   "version": "3.6.10"
  }
 },
 "nbformat": 4,
 "nbformat_minor": 2
}
